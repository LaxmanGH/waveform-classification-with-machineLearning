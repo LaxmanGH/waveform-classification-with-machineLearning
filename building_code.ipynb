{
 "cells": [
  {
   "cell_type": "code",
   "execution_count": 1,
   "id": "d1f48882-43b4-4ec8-a05b-bb91adc98658",
   "metadata": {},
   "outputs": [],
   "source": [
    "import uproot as ur\n",
    "import pandas as pd\n",
    "import numpy as np\n",
    "import matplotlib.pyplot as plt\n",
    "import pickle"
   ]
  },
  {
   "cell_type": "code",
   "execution_count": 2,
   "id": "4f8a3b6d-3e42-40b1-b6c5-b9d05e24adbd",
   "metadata": {},
   "outputs": [],
   "source": [
    "def baselinecorre_norm(wf, sample_range):\n",
    "    '''Does a baseline correction and then normalization to a given waveform taking samples \n",
    "    provided by sample_range'''\n",
    "    baseline = np.mean(wf[:sample_range])\n",
    "    wf_bc = wf - baseline\n",
    "    wf_norm = (wf_bc - np.min(wf_bc)) / (np.max(wf_bc) - np.min(wf_bc)) #rescale wf to between 0 and 1\n",
    "    return wf_norm\n",
    "\n",
    "def extract_normal_wf(rootfile, savefile = False):\n",
    "    ''' this function extract the normal waveforms from a root file that consist of different histograms for each waveform and return\n",
    "    a list containing the waveforms'''\n",
    "    file = ur.open(rootfile)\n",
    "        \n",
    "    # Load histograms from rootfile into Dataframe using Pandas package\n",
    "    # waveforms are columnwise so 5000 waveforms consisting 955 values each becomes a\n",
    "    # 955 rows x 5000 columns\n",
    "    df_wf = pd.concat([pd.DataFrame(file[key].values(), columns=[str(key)]) for key in file.keys()], axis=1, ignore_index=True)\n",
    "    \n",
    "    # Truncating NaN values at the end of some waveforms histograms\n",
    "    df_wf = df_wf[:][:-1]\n",
    "    \n",
    "    # Baseline correction and normalization - dataframe transpose shape\n",
    "#     df_wf = pd.DataFrame([baselinecorre_norm(df_wf[wfid], 200) for wfid in range(df_wf.shape[1])])\n",
    "    df_wf = [baselinecorre_norm(df_wf[wfid], 200) for wfid in range(df_wf.shape[1])]\n",
    "    np_wf = np.asarray(df_wf)\n",
    "    count = len(np_wf)\n",
    "#     print(count)\n",
    "    if savefile:\n",
    "        event_dict={}\n",
    "        file_name = \"nopileupfile.pickle\"\n",
    "        with open(file_name, 'wb') as handle:\n",
    "            for i in range(count):  \n",
    "                nwf = np_wf[i]\n",
    "                event_dict = {\"wf\" : nwf}\n",
    "                pickle.dump(event_dict,handle, protocol=pickle.HIGHEST_PROTOCOL)\n",
    "        \n",
    "    # Transposing 955 rows x 5000 columns into 5000 rows x 955 columns\n",
    "    # so that each waveforms are in rows. This is because it's easier to add an \n",
    "    # 'classification id' column into pandas dataframe \n",
    "    \n",
    "#     wf_id = 0 # for normal waveform, we want to label those waveforms as 0\n",
    "#     df_wf['wf_id'] = pd.Series(np.ones(len(df_wf)) *int(wf_id))\n",
    "#     df_wf = df_wf.transpose()\n",
    "    \n",
    "    file.close()\n",
    "    \n",
    "    return df_wf, np_wf"
   ]
  },
  {
   "cell_type": "code",
   "execution_count": 3,
   "id": "f3e1c48d-1636-4bfc-8b03-2a404b1f5a0b",
   "metadata": {
    "scrolled": true,
    "tags": []
   },
   "outputs": [],
   "source": [
    "# checkwf, checknp = extract_normal_wf(\"./isGood_2600_2630_wfs_sse_5k.root\", True)\n",
    "# checknp"
   ]
  },
  {
   "cell_type": "code",
   "execution_count": 4,
   "id": "0d09bc03-0027-4908-bd16-6fb86708efe7",
   "metadata": {
    "scrolled": true,
    "tags": []
   },
   "outputs": [],
   "source": [
    "# plt.plot(checknp[0])\n",
    "# checkwf"
   ]
  },
  {
   "cell_type": "code",
   "execution_count": 5,
   "id": "4b5c19ee-0dac-443a-ac8f-7afd4f4ee934",
   "metadata": {},
   "outputs": [],
   "source": [
    "def create_one_pileup_wf(rootfile, end_shift_param):\n",
    "    '''creates a single pileup waveform using two normal waveforms selected randomly from a given root file'''\n",
    "    wfs, npwfs = extract_normal_wf(rootfile)\n",
    "    \n",
    "    #choose the random waveform from the normalwaveform data frame\n",
    "#     choose = np.random.randint(1, wfs.shape[1])\n",
    "    choose = np.random.randint(1, len(wfs)-1)\n",
    "    wfBs = wfs[choose]\n",
    "    wfOt = wfs[choose+1]\n",
    "    if choose == len(wfs)-1:\n",
    "        wfOt = wfs[choose-1]\n",
    "#     wfBs = baselinecorre_norm(wfBs, 200)\n",
    "#     wfOt = baselinecorre_norm(wfOt, 200)\n",
    "    \n",
    "    wfBs = wfBs*np.random.random()\n",
    "    wfOt = wfOt*np.random.random()\n",
    "\n",
    "    wf_len = len(wfBs)\n",
    "    \n",
    "    wfOt = pd.Series(np.zeros(end_shift_param)).append(wfOt, ignore_index=True)\n",
    "    wfOt = wfOt[:wf_len]\n",
    "    \n",
    "    wf_pileup = wfBs + wfOt\n",
    "    return wf_pileup\n",
    "    "
   ]
  },
  {
   "cell_type": "code",
   "execution_count": 6,
   "id": "d8ef1f3f-f614-44ad-ad8e-d932032dbe1f",
   "metadata": {},
   "outputs": [],
   "source": [
    "def create_pileup_wfs(rootfile, init_shift_param, end_shift_param, wf_num):\n",
    "    '''Creates a numpy array of pileup waveforms from a root file using a shift parameter '''\n",
    "    emptydf = pd.DataFrame()\n",
    "    sftrange = []\n",
    "    for wf_id in range(wf_num):\n",
    "#         sft = np.random.randint(init_shift_param, end_shift_param)\n",
    "#         while sft == 0:\n",
    "#             sft = np.random.randint(init_shift_param, end_shift_param)\n",
    "        sft = np.random.randint(end_shift_param, end_shift_param+1) #fixing the same shift value\n",
    "        sftrange.append(sft)   \n",
    "#     pileupwfs = pd.concat([create_one_pileup_wf(rootfile, sftrange[i]) for i in range(len(sftrange))], ignore_index=True,axis=1).to_numpy()\n",
    "    pileup_wf = emptydf.append([create_one_pileup_wf(rootfile, sftrange[i]) for i in range(len(sftrange))], ignore_index=True).to_numpy()\n",
    "    count = len(pileup_wf)\n",
    "    event_dict={}\n",
    "    file_name = \"pileupwith_\"+str(end_shift_param)+\"_shift.pickle\"\n",
    "    with open(file_name, 'wb') as handle:\n",
    "        for i in range(count):  \n",
    "            nwf = pileup_wf[i]\n",
    "            event_dict = {\"wf\": nwf}\n",
    "            pickle.dump(event_dict,handle, protocol=pickle.HIGHEST_PROTOCOL)\n",
    "    return pileup_wf\n",
    "    \n",
    "    "
   ]
  },
  {
   "cell_type": "code",
   "execution_count": null,
   "id": "b195d9b0-6e06-4398-a910-af166af59521",
   "metadata": {},
   "outputs": [],
   "source": [
    "s = list(range(10,15,5))\n",
    "for i in range(len(s)):\n",
    "    create_pileup_wfs(\"./isGood_2600_2630_wfs_sse_5k.root\",0,s[i],5000)"
   ]
  },
  {
   "cell_type": "code",
   "execution_count": null,
   "id": "4a7792f4-cca7-4d3a-9105-f5b166dcb8ce",
   "metadata": {},
   "outputs": [],
   "source": []
  }
 ],
 "metadata": {
  "kernelspec": {
   "display_name": "pytorchtest",
   "language": "python",
   "name": "myenv"
  },
  "language_info": {
   "codemirror_mode": {
    "name": "ipython",
    "version": 3
   },
   "file_extension": ".py",
   "mimetype": "text/x-python",
   "name": "python",
   "nbconvert_exporter": "python",
   "pygments_lexer": "ipython3",
   "version": "3.7.10"
  }
 },
 "nbformat": 4,
 "nbformat_minor": 5
}
