{
 "cells": [
  {
   "cell_type": "markdown",
   "id": "e7eb5bc6-50ca-4269-85df-1e4fe1b9e110",
   "metadata": {},
   "source": [
    "### Let us import the necessary libraries we need "
   ]
  },
  {
   "cell_type": "code",
   "execution_count": 574,
   "id": "2008705b-5571-470f-a929-a3cbe30df7c0",
   "metadata": {},
   "outputs": [],
   "source": [
    "import numpy as np\n",
    "import pandas as pd\n",
    "import os\n",
    "import argparse\n",
    "import time\n",
    "import math\n",
    "import random\n",
    "import torch.nn as nn\n",
    "import torch.optim as optim\n",
    "from torch.nn.parameter import Parameter\n",
    "from torch.nn import init\n",
    "import torch.nn.functional as F\n",
    "import torch\n",
    "import torch.utils.data as data_utils\n",
    "from torch.utils.data import Dataset, DataLoader, SubsetRandomSampler\n",
    "import gzip\n",
    "import pickle\n",
    "import numpy as np\n",
    "from torch.autograd import Variable\n",
    "from scipy import sparse\n",
    "from sklearn.model_selection import train_test_split\n",
    "from sklearn.metrics import roc_auc_score, roc_curve\n",
    "from sklearn.preprocessing import StandardScaler\n",
    "import matplotlib\n",
    "import matplotlib.pyplot as plt\n",
    "from matplotlib import cm\n",
    "import torchsnooper\n",
    "\n",
    "from tqdm import tqdm\n",
    "\n",
    "DEVICE = torch.device(\"cuda:0\" if torch.cuda.is_available() else \"cpu\")"
   ]
  },
  {
   "cell_type": "markdown",
   "id": "723257b9-313f-42ca-9e0a-15596cdd8391",
   "metadata": {},
   "source": [
    "## Define some useful functions that are needed repeatedly"
   ]
  },
  {
   "cell_type": "code",
   "execution_count": 575,
   "id": "12bd028e-1793-4994-82b9-20cc2f74756b",
   "metadata": {},
   "outputs": [],
   "source": [
    "def read_pickle_file(pickle_file_name):\n",
    "    \"\"\"reads a pickle file containing different parameters: 'avse','run','energy','detector','tDrift','wf','tstart','period','t0' saved in dictionary \n",
    "    and reuturns the list of those parameter\"\"\"\n",
    "    objects = []\n",
    "    with (open(pickle_file_name,\"rb\")) as depfile:\n",
    "        while True:\n",
    "            try:\n",
    "                objects.append(pickle.load(depfile))\n",
    "            except EOFError:\n",
    "                break\n",
    "    return objects\n",
    "\n",
    "def baselinecorre_norm(wf, sample_range):\n",
    "    '''Does a baseline correction and then normalization to a given waveform taking samples \n",
    "    provided by sample_range'''\n",
    "    baseline = np.mean(wf[:sample_range])\n",
    "    wf_bc = wf - baseline\n",
    "    wf_norm = (wf_bc - np.min(wf_bc)) / (np.max(wf_bc) - np.min(wf_bc)) #rescale wf to between 0 and 1\n",
    "    return wf_norm\n",
    "\n",
    "def create_pileup_wf(pickle_file_name, end_shift_param):\n",
    "    '''creates a single pileup waveform, a base waveform, and a onTop wavefor using two normal waveforms selected randomly from a given pickle file'''\n",
    "    params_list = read_pickle_file(pickle_file_name)\n",
    "    \n",
    "    #number of wfs saved in a pickle file\n",
    "    high_value = len(params_list)\n",
    "    \n",
    "    #choose randomly a single waveform from the pickle file\n",
    "    choose = np.random.randint(1, high_value-1)\n",
    "    \n",
    "    #choose a single waveform (Base waveform)\n",
    "    wfBs = params_list[choose][\"wf\"]\n",
    "    \n",
    "    #choose another single waveform (onTop waveform)\n",
    "    wfOt = params_list[choose+1][\"wf\"]\n",
    "    \n",
    "    # Do the baseline correction and normalization\n",
    "    wfBs = baselinecorre_norm(wfBs,960) #960 is because most of the single wfs have t0 around 960\n",
    "    wfOt = baselinecorre_norm(wfOt,960)\n",
    "    \n",
    "    #randomize the base_wf and on_top_wf\n",
    "    wfBs = wfBs*np.random.random()\n",
    "    wfOt = wfOt*np.random.random()\n",
    "    wf_len = len(wfBs)\n",
    "    wfBsdf = pd.Series(wfBs)\n",
    "    wfOtdf = pd.Series(np.zeros(end_shift_param)).append(pd.Series(wfOt),ignore_index=True) #need to be very careful when using ignore_index =True\n",
    "    wfOtdf = wfOtdf[:wf_len]\n",
    "    wf_pileup = wfBsdf + wfOtdf\n",
    "    return wf_pileup\n",
    "    "
   ]
  },
  {
   "cell_type": "code",
   "execution_count": 576,
   "id": "f1665c03-a22b-4425-93be-b7884dc3b890",
   "metadata": {},
   "outputs": [],
   "source": [
    "def create_wf_dataset(pickle_file_name, end_shift_param):\n",
    "    '''returns the energy's peak ratio and a single pileup waveform using two normal waveforms selected randomly from a given pickle file'''\n",
    "    params_list = read_pickle_file(pickle_file_name)\n",
    "    \n",
    "    #number of wfs saved in a pickle file\n",
    "    high_value = len(params_list)\n",
    "    \n",
    "    #choose randomly a single waveform from the pickle file\n",
    "    choose = np.random.randint(1, high_value-1)\n",
    "    \n",
    "    #choose a single waveform (Base waveform)\n",
    "    wfBs = params_list[choose][\"wf\"]\n",
    "    \n",
    "    #choose another single waveform (onTop waveform)\n",
    "    wfOt = params_list[choose+1][\"wf\"]\n",
    "    \n",
    "    #randomize the base_wf and on_top_wf\n",
    "    wfBs = wfBs*np.random.random()\n",
    "    wfOt = wfOt*np.random.random()\n",
    "    wf_len = len(wfBs)\n",
    "    wfBsdf = pd.Series(wfBs)\n",
    "    wfOtdf = pd.Series(np.zeros(end_shift_param)).append(pd.Series(wfOt),ignore_index=True) #need to be very careful when using ignore_index =True\n",
    "    el = min(np.max(wfBsdf),np.max(wfOtdf))\n",
    "    eh = max(np.max(wfBsdf),np.max(wfOtdf))\n",
    "    eratio = round(eh/el,3)\n",
    "    wfOtdf = wfOtdf[:wf_len]\n",
    "    wf_pileup = wfBsdf + wfOtdf\n",
    "     # Do the baseline correction and normalization\n",
    "#     wfBs = baselinecorre_norm(wfBsdf,960) #960 is because most of the single wfs have t0 around 960\n",
    "#     wfOt = baselinecorre_norm(wfOtdf,960)\n",
    "#     wf_pileup = baselinecorre_norm(wf_pileup,960)\n",
    "    return  eratio, wf_pileup\n",
    "    "
   ]
  },
  {
   "cell_type": "markdown",
   "id": "79243ab6-5c37-4f94-b8ab-dcb99aafc21e",
   "metadata": {},
   "source": [
    "### create the pileup waveforms, and save it and its corresponding shift and energy's peak ratio to a pickle file"
   ]
  },
  {
   "cell_type": "code",
   "execution_count": 573,
   "id": "42da50c8-70b5-464a-aa54-76eaf6dc98d5",
   "metadata": {},
   "outputs": [],
   "source": [
    "# create the pileup waveforms, and save it and its corresponding shift and energy's peak ratio to a pickle file\n",
    "# import time\n",
    "# start_time = time.time()\n",
    "# filename = \"shfit_wf_Eratio_dataset_100k.pickle\"\n",
    "# with open(filename, 'wb') as handle:\n",
    "#     for i in range(100000):\n",
    "#         sft = np.random.randint(10,1000) # shift of 1 means 10ns, so e3 would cover upto 10us\n",
    "#         eratio, wf_pileup = create_wf_dataset(\"/home/xu_lab/shared/laxman_test/DEP_608_DS6.pickle\",sft)\n",
    "#         wf = np.array(wf_pileup)\n",
    "#         event_dict = {\"shift\":sft,\\\n",
    "#                       \"e_ratio\":eratio,\\\n",
    "#                      \"wf\":wf}\n",
    "#         pickle.dump(event_dict,handle, protocol=pickle.HIGHEST_PROTOCOL)\n",
    "# end_time = time.time()  \n",
    "# total_time = end_time - start_time\n",
    "# print(\"TOTAL time taken : %d seconds\"%total_time)\n"
   ]
  },
  {
   "cell_type": "code",
   "execution_count": 567,
   "id": "7f23551f-8bfe-4b91-b9fb-ea5ddcf6761f",
   "metadata": {},
   "outputs": [
    {
     "data": {
      "text/plain": [
       "<matplotlib.legend.Legend at 0x2b0d1683da10>"
      ]
     },
     "execution_count": 567,
     "metadata": {},
     "output_type": "execute_result"
    },
    {
     "data": {
      "image/png": "[encoded data removed]",
      "text/plain": [
       "<Figure size 432x288 with 1 Axes>"
      ]
     },
     "metadata": {
      "needs_background": "light"
     },
     "output_type": "display_data"
    }
   ],
   "source": [
    "# test = read_pickle_file(\"/home/xu_lab/shared/laxman_test/DEP_608_DS6.pickle\")\n",
    "# shift = 1100\n",
    "# m1 = np.random.random()\n",
    "# m2 = np.random.random()\n",
    "# rn = np.random.randint(1,3000)\n",
    "# bs = test[rn][\"wf\"]*m1\n",
    "# ot = test[rn+1][\"wf\"]*m2\n",
    "# wf_len = len(bs)\n",
    "# j = np.zeros(shift)\n",
    "# p = np.concatenate((j,ot))\n",
    "# pup = bs + p[:wf_len]\n",
    "# plt.plot(bs, color = \"b\", label = \"base\")\n",
    "# plt.plot(ot, color = \"orange\", label = \"onTop\")\n",
    "# plt.plot(pup,color = \"g\",label=\"pileup\")\n",
    "# plt.legend()\n",
    "# # plt.xlim(10,4000)\n",
    "# plt.plot(np.diff(pup))"
   ]
  },
  {
   "cell_type": "markdown",
   "id": "5d6e6f3f-d431-4bc8-a48a-ad4c74029ce9",
   "metadata": {},
   "source": [
    "### Alternative way of finding the ratio of energy's peak (not recommended to this task)"
   ]
  },
  {
   "cell_type": "code",
   "execution_count": 448,
   "id": "5ed27880-b4cd-47d6-a6a9-29b6a4ed38a4",
   "metadata": {},
   "outputs": [
    {
     "name": "stdout",
     "output_type": "stream",
     "text": [
      "first peak:  229.2091064453125\n",
      "second peak:  220.48581314086914\n",
      "energy's peak ratio: 1.039563966407535\n"
     ]
    }
   ],
   "source": [
    "# from scipy.signal import find_peaks\n",
    "# peak_index,peak_height = find_peaks(k,height = 0)\n",
    "# first_peak_index = np.argmax(peak_height[\"peak_heights\"])\n",
    "# first_peak_value = np.max(peak_height[\"peak_heights\"])\n",
    "# print(\"first peak: \", first_peak_value)\n",
    "# second_peak = []\n",
    "# second_peak = np.concatenate((peak_height[\"peak_heights\"][:first_peak_index-20],peak_height[\"peak_heights\"][first_peak_index+20:])) # it uses the resolution of 20 samples to find the second peak\n",
    "# second_peak_value = np.max(second_peak, axis = 0)\n",
    "# print(\"second peak: \", second_peak_value)\n",
    "# print(\"energy's peak ratio:\", max(first_peak_value,second_peak_value)/min(first_peak_value,second_peak_value))"
   ]
  },
  {
   "cell_type": "markdown",
   "id": "52762098-0b2b-4daa-bfdf-77ce5742065f",
   "metadata": {},
   "source": [
    "### Creating 60k pileup waveforms having the shift between 10ns and 1000ns and save these wfs to a pickle file"
   ]
  },
  {
   "cell_type": "code",
   "execution_count": 31,
   "id": "84f83672-976a-4a7b-abf1-664d49f15e82",
   "metadata": {},
   "outputs": [],
   "source": [
    "# create the pileup waveforms and its corresponding shift label\n",
    "# import time\n",
    "# start_time = time.time()\n",
    "# filename = \"wf_and_shift_label_regression_60k.pickle\"\n",
    "# with open(filename, 'wb') as handle:\n",
    "#     for i in range(60000):\n",
    "#         sft = np.random.randint(1,101)\n",
    "#         wf_pileup = create_pileup_wf(\"/home/xu_lab/shared/laxman_test/DEP_608_DS6.pickle\",sft)\n",
    "#         wf = np.array(wf_pileup)\n",
    "#         event_dict = {\"shift\":sft,\\\n",
    "#                      \"wf\":wf}\n",
    "#         pickle.dump(event_dict,handle, protocol=pickle.HIGHEST_PROTOCOL)\n",
    "# end_time = time.time()  \n",
    "# total_time = end_time - start_time\n",
    "# print(\"TOTAL time taken : %d seconds\"%total_time)\n"
   ]
  },
  {
   "cell_type": "code",
   "execution_count": 577,
   "id": "eed29d35-0f23-4e64-b399-c72814dd0d79",
   "metadata": {},
   "outputs": [],
   "source": [
    "'''\n",
    "These 2 parameters define the range of waveform we'd like to analyze\n",
    "'''\n",
    "LSPAN = 200 # number of time samples prior to t0\n",
    "HSPAN = 400 # number of time samples after t0"
   ]
  },
  {
   "cell_type": "markdown",
   "id": "0bb55b11-b17d-4603-80da-fa3a789ca849",
   "metadata": {},
   "source": [
    "### Defining a WaveformDataset Class "
   ]
  },
  {
   "cell_type": "code",
   "execution_count": 583,
   "id": "e578fafc-075a-45c3-9d14-f73e44f77942",
   "metadata": {},
   "outputs": [],
   "source": [
    "class WaveformDatasetClass(Dataset):\n",
    "    def __init__(self, picklefile = \"/home/xu_lab/shared/laxman_test/wf_and_shift_label_regression_60k.pickle\", transform = None):\n",
    "        pileup_wfs_and_label = self.event_loader(picklefile)\n",
    "        normal_wfs_and_label = self.event_loader(\"../ml/new731.pickle\") # added 731 single wfs from DEP_608_DS6.pickle (contains 5731 wfs) file \"\n",
    "        self.wfs = pileup_wfs_and_label + normal_wfs_and_label \n",
    "        self.all_wfs = random.sample(self.wfs,len(self.wfs)) #shuffle the list\n",
    "        self.size = len(self.all_wfs)\n",
    "        self.transform = transform\n",
    "        \n",
    "    def __len__(self):\n",
    "        return self.size\n",
    "        \n",
    "    def __getitem__(self, idx):\n",
    "        wf = self.all_wfs[idx][\"wf\"]\n",
    "       # baseline correction and normalization\n",
    "        t0 = 960  #looking at many waveforms, found that t0 is around 965, so choosing 960 as a good guess \n",
    "        wf -= np.average(wf[:(t0-50)])\n",
    "        wfbegin = t0 - LSPAN\n",
    "        wfend = t0 + HSPAN\n",
    "        wf = wf[wfbegin:wfend]\n",
    "        wf = (wf - np.min(wf)) / (np.max(wf) - np.min(wf))\n",
    "        wf = wf.astype(\"float32\")\n",
    "\n",
    "        shift = self.all_wfs[idx][\"shift\"]\n",
    "        return wf, shift \n",
    "        \n",
    "    def event_loader(self, wf_and_label_file):\n",
    "        objects = []\n",
    "        with (open(wf_and_label_file,\"rb\")) as wffile:\n",
    "            while True:\n",
    "                try:\n",
    "                    objects.append(pickle.load(wffile))\n",
    "                except EOFError:\n",
    "                    break\n",
    "        return objects"
   ]
  },
  {
   "cell_type": "markdown",
   "id": "875f031e-535c-47a0-bff6-73ad40a8f121",
   "metadata": {},
   "source": [
    "### Defining another class that will be used for testing Single/Normal waveforms in network"
   ]
  },
  {
   "cell_type": "code",
   "execution_count": 578,
   "id": "a081b75d-7bd9-43e3-9faa-c0787bf00638",
   "metadata": {},
   "outputs": [],
   "source": [
    "class NormalWaveformTestClass(Dataset):\n",
    "    def __init__(self, normalWf_file = \"/home/xu_lab/shared/laxman_test/DEP_608_DS6.pickle\",test_above_index = 731):\n",
    "        # reason for choosing 731 is that the first 731 single wfs are already used in WaveformDatasetClass()\n",
    "        self.normal_wfs = self.event_loader(normalWf_file) \n",
    "        self.test_above_index = test_above_index\n",
    "        self.size = len(self.normal_wfs[self.test_above_index:])\n",
    "\n",
    "        \n",
    "    def __len__(self):\n",
    "        return self.size\n",
    "    \n",
    "    def __getitem__(self,idx):\n",
    "        wf = self.normal_wfs[self.test_above_index+idx][\"wf\"]\n",
    "       # baseline correction and normalization\n",
    "        t0 = 960  \n",
    "        wf -= np.average(wf[:(t0-50)])\n",
    "        wfbegin = t0 - LSPAN\n",
    "        wfend = t0 + HSPAN\n",
    "        wf = wf[wfbegin:wfend]\n",
    "        wf = (wf - np.min(wf)) / (np.max(wf) - np.min(wf))\n",
    "        wf = wf.astype(\"float32\")\n",
    "        shift = 0 # shift is always 0 for single wfs\n",
    "        return wf, shift\n",
    "\n",
    "    def event_loader(self, normal_wf_file):\n",
    "        objects = []\n",
    "        with (open(normal_wf_file,\"rb\")) as wffile:\n",
    "            while True:\n",
    "                try:\n",
    "                    objects.append(pickle.load(wffile))\n",
    "                except EOFError:\n",
    "                    break\n",
    "        return objects"
   ]
  },
  {
   "cell_type": "code",
   "execution_count": 579,
   "id": "6bf56fa0-9b46-48c9-a28c-e60af853f131",
   "metadata": {},
   "outputs": [],
   "source": [
    "#Load dataset\n",
    "def load_data(batch_size):\n",
    "    train_data = WaveformDatasetClass()\n",
    "    test_data = NormalWaveformTestClass()\n",
    "    train_loader = data_utils.DataLoader(train_data, batch_size=batch_size, drop_last=True)\n",
    "    test_loader = data_utils.DataLoader(test_data, batch_size=batch_size, drop_last=True)\n",
    "\n",
    "    return train_loader,test_loader"
   ]
  },
  {
   "cell_type": "markdown",
   "id": "f36a5bfc-69da-4358-9505-5b209072ac79",
   "metadata": {},
   "source": [
    "#### Define Hyperparameters:"
   ]
  },
  {
   "cell_type": "code",
   "execution_count": 580,
   "id": "174685f7-396e-4280-a9dc-9af7d3c34d20",
   "metadata": {},
   "outputs": [],
   "source": [
    "BATCH_SIZE = 40\n",
    "NUM_EPOCHS = 2\n",
    "LEARNING_RATE =1e-3"
   ]
  },
  {
   "cell_type": "markdown",
   "id": "3419cfd4-716d-45d8-9f03-6663a25b92eb",
   "metadata": {},
   "source": [
    "### Defining a RNN model and fully connected part"
   ]
  },
  {
   "cell_type": "raw",
   "id": "7c88088c-62a2-4c1d-b864-35515f910d79",
   "metadata": {},
   "source": [
    "#The fully connected part of neural network\n",
    "class FCNet(nn.Module):\n",
    "    def __init__(self, first_unit, last_unit):\n",
    "        super(FCNet, self).__init__()\n",
    "        \n",
    "        #Number of channels in each fully connected layers\n",
    "        fc1, fc2, fc3, fc4 = (first_unit, int(first_unit*0.5), int(first_unit*0.25), int(first_unit*0.1))\n",
    "        do = 0.2\n",
    "        self.fcnet = nn.Sequential(\n",
    "            torch.nn.Linear(fc1, fc2),\n",
    "            torch.nn.LeakyReLU(),\n",
    "            torch.nn.Dropout(do),\n",
    "            torch.nn.Linear(fc2, fc3),\n",
    "            torch.nn.LeakyReLU(),\n",
    "            torch.nn.Dropout(do),\n",
    "            torch.nn.Linear(fc3, fc4),\n",
    "            torch.nn.LeakyReLU(),\n",
    "            torch.nn.Dropout(do),\n",
    "            torch.nn.Linear(fc4, last_unit),\n",
    "        )\n",
    "    def forward(self, x):\n",
    "        return self.fcnet(x)\n",
    "\n",
    "#The RNN based model:\n",
    "class RNN(nn.Module):\n",
    "    def __init__(self):\n",
    "        super(RNN, self).__init__()\n",
    "        feed_in_dim = 955\n",
    "        self.seq_len = 600\n",
    "        self.seg = 1 #1200 \n",
    "        self.RNNLayer = torch.nn.GRU(input_size = self.seg, hidden_size = feed_in_dim//2, batch_first=True)\n",
    "        self.fcnet = FCNet(feed_in_dim//2,1)\n",
    "#     @torchsnooper.snoop()\n",
    "    def forward(self, x):\n",
    "        x = x.view(-1,self.seq_len,self.seg)\n",
    "        output, hidden = self.RNNLayer(x)\n",
    "        hidden =  hidden[-1]\n",
    "        x = self.fcnet(hidden) \n",
    "        return x\n",
    "\n"
   ]
  },
  {
   "cell_type": "code",
   "execution_count": 584,
   "id": "b76b6694-ab9b-4778-8e40-53d91f0483f4",
   "metadata": {},
   "outputs": [],
   "source": [
    "#The fully connected part of neural network\n",
    "class FCNet(nn.Module):\n",
    "    def __init__(self, first_unit, last_unit):\n",
    "        super(FCNet, self).__init__()\n",
    "        \n",
    "        #Number of channels in each fully connected layers\n",
    "        fc1, fc2, fc3, fc4 = (first_unit, int(first_unit*0.5), int(first_unit*0.25), int(first_unit*0.1))\n",
    "        do = 0.2\n",
    "        self.fcnet = nn.Sequential(\n",
    "            torch.nn.Linear(fc1, fc2),\n",
    "            torch.nn.LeakyReLU(),\n",
    "            torch.nn.Dropout(do),\n",
    "            torch.nn.Linear(fc2, fc3),\n",
    "            torch.nn.LeakyReLU(),\n",
    "            torch.nn.Dropout(do),\n",
    "            torch.nn.Linear(fc3, fc4),\n",
    "            torch.nn.LeakyReLU(),\n",
    "            torch.nn.Dropout(do),\n",
    "            torch.nn.Linear(fc4, last_unit),\n",
    "        )\n",
    "    def forward(self, x):\n",
    "        return self.fcnet(x)\n",
    "    \n",
    "#The RNN based model:\n",
    "class RNN(nn.Module):\n",
    "    def __init__(self):\n",
    "        super(RNN, self).__init__()\n",
    "        \n",
    "        feed_in_dim = 955\n",
    "        self.seq_len = 200 #340 \n",
    "        self.seg = 3 #4\n",
    "        self.RNNLayer = torch.nn.GRU(input_size = self.seg, hidden_size = feed_in_dim//2, batch_first=True)\n",
    "        self.fcnet = FCNet(feed_in_dim//2,1)\n",
    "#     @torchsnooper.snoop()\n",
    "    def forward(self, x):\n",
    "        x = x.view(-1,self.seq_len,self.seg)\n",
    "        output, hidden = self.RNNLayer(x)\n",
    "        hidden =  hidden[-1]\n",
    "        \n",
    "        x = self.fcnet(hidden) \n",
    "        return x"
   ]
  },
  {
   "cell_type": "code",
   "execution_count": 585,
   "id": "c6998e11-d996-4653-8488-688ef1cb70d8",
   "metadata": {},
   "outputs": [],
   "source": [
    "#Load data\n",
    "train_loader, test_loader = load_data(BATCH_SIZE)"
   ]
  },
  {
   "cell_type": "code",
   "execution_count": 586,
   "id": "7239e558-6ea8-4ba2-af32-5278689f21fc",
   "metadata": {},
   "outputs": [
    {
     "name": "stdout",
     "output_type": "stream",
     "text": [
      "#params 837635\n"
     ]
    },
    {
     "name": "stderr",
     "output_type": "stream",
     "text": [
      "  0%|          | 0/2 [00:00<?, ?it/s]"
     ]
    },
    {
     "name": "stdout",
     "output_type": "stream",
     "text": [
      "Epoch [1/2], Iter [1518/1518] Loss: 418.8709\n"
     ]
    },
    {
     "name": "stderr",
     "output_type": "stream",
     "text": [
      " 50%|█████     | 1/2 [00:25<00:25, 25.47s/it]"
     ]
    },
    {
     "name": "stdout",
     "output_type": "stream",
     "text": [
      "rmse value is 26.940913923569816\n",
      "Epoch [2/2], Iter [1518/1518] Loss: 331.1425\n"
     ]
    },
    {
     "name": "stderr",
     "output_type": "stream",
     "text": [
      "100%|██████████| 2/2 [00:50<00:00, 25.32s/it]"
     ]
    },
    {
     "name": "stdout",
     "output_type": "stream",
     "text": [
      "rmse value is 22.91198585848366\n"
     ]
    },
    {
     "name": "stderr",
     "output_type": "stream",
     "text": [
      "\n"
     ]
    }
   ],
   "source": [
    "loss_values = []\n",
    "rmse_values = []\n",
    "\n",
    "#Define RNN network\n",
    "classifier = RNN()\n",
    "\n",
    "classifier.to(DEVICE)\n",
    "\n",
    "print(\"#params\", sum(x.numel() for x in classifier.parameters()))\n",
    "\n",
    "criterion = torch.nn.MSELoss()\n",
    "criterion = criterion.to(DEVICE)\n",
    "\n",
    "optimizer = torch.optim.RMSprop(classifier.parameters(),lr=LEARNING_RATE)\n",
    "\n",
    "for epoch in tqdm(range(NUM_EPOCHS)):\n",
    "    for i, (waveform, labels) in enumerate(train_loader):\n",
    "        classifier.train()\n",
    "        waveform = waveform.to(DEVICE)\n",
    "        labels = labels.to(DEVICE).float()\n",
    "        outputs  = classifier(waveform).reshape([BATCH_SIZE]) # adjusting with the size of labels\n",
    "        loss = criterion(outputs,labels)\n",
    "        loss.backward()\n",
    "        optimizer.step()        \n",
    "        optimizer.zero_grad()  \n",
    "        \n",
    "    print('\\rEpoch [{0}/{1}], Iter [{2}/{3}] Loss: {4:.4f}'.format(\n",
    "        epoch+1, NUM_EPOCHS, i+1, len(train_loader),\n",
    "        loss.item(), end=\"\"),end=\"\")\n",
    "    print(\"\")\n",
    "    loss_values.append(loss.item())\n",
    "    \n",
    "    y_true = []\n",
    "    y_pred = []\n",
    "    cont_error = [] \n",
    "    #After every epoch, evaluate the validation accuracy on the test loader\n",
    "    for waveform,labels in test_loader:\n",
    "        classifier.eval() \n",
    "        with torch.no_grad():\n",
    "            waveform = waveform.to(DEVICE)\n",
    "            outputs  = classifier(waveform)\n",
    "            y_true += list(labels)\n",
    "            y_pred += list(outputs)\n",
    "    # Calculate the separation between true shift and predicted shift        \n",
    "    for j in range(len(y_true)):\n",
    "        cont_error.append(y_pred[j].item() - y_true[j].item())\n",
    "    \n",
    "    rmse = np.sqrt(np.mean(np.square(cont_error)))\n",
    "    rmse_values.append(rmse)\n",
    "    print(\"rmse value is\", rmse)"
   ]
  },
  {
   "cell_type": "markdown",
   "id": "09bd58e6-cf91-40b3-a511-a3baa38ecabb",
   "metadata": {},
   "source": [
    "#### save the separation between true shift and predicted shift to a txt file"
   ]
  },
  {
   "cell_type": "code",
   "execution_count": 73,
   "id": "8b7610a1-a108-4b5e-a846-20c110528978",
   "metadata": {},
   "outputs": [],
   "source": [
    "file = np.savetxt(\"separation_Value_singleWFs_RNN_regression.txt\",(cont_error))"
   ]
  },
  {
   "cell_type": "markdown",
   "id": "fdbcf80a-5bea-4cc3-b784-04a4f2b2f019",
   "metadata": {},
   "source": [
    "#### read the txt file and make a histogram of distribution of separation"
   ]
  },
  {
   "cell_type": "code",
   "execution_count": 100,
   "id": "c63df0c7-08be-4eeb-b966-d04ace2bbaa4",
   "metadata": {},
   "outputs": [],
   "source": [
    "separation = np.loadtxt(\"separation_Value_singleWFs_RNN_regression.txt\")"
   ]
  },
  {
   "cell_type": "code",
   "execution_count": 587,
   "id": "d14a7fbc-7418-4d25-9aad-d2c5d56f712f",
   "metadata": {},
   "outputs": [
    {
     "data": {
      "image/png": "[encoded data removed]",
      "text/plain": [
       "<Figure size 864x504 with 1 Axes>"
      ]
     },
     "metadata": {
      "needs_background": "light"
     },
     "output_type": "display_data"
    }
   ],
   "source": [
    "separation = cont_error\n",
    "plt.figure(figsize=(12,7))\n",
    "plt.hist(separation, bins = 40, range = (15,40),log = False)\n",
    "plt.xlabel(\"Predicted shift\")\n",
    "plt.title(\"Predicted shift value for normal waveforms in RNN model\")\n",
    "plt.ylabel(\"Counts\")\n",
    "plt.grid()\n",
    "plt.show()"
   ]
  },
  {
   "cell_type": "markdown",
   "id": "c4b133f8-1b85-4ffe-8181-8091802841ba",
   "metadata": {},
   "source": [
    "### Fit the distribution with Gaussian"
   ]
  },
  {
   "cell_type": "code",
   "execution_count": 588,
   "id": "6e14ef84-b6e6-4116-bea9-1149c271dbf1",
   "metadata": {},
   "outputs": [
    {
     "data": {
      "image/png": "[encoded data removed]",
      "text/plain": [
       "<Figure size 864x504 with 1 Axes>"
      ]
     },
     "metadata": {
      "needs_background": "light"
     },
     "output_type": "display_data"
    }
   ],
   "source": [
    "import scipy\n",
    "from scipy.optimize import curve_fit\n",
    "from scipy.stats import norm\n",
    "\n",
    "x = separation\n",
    "fig, ax = plt.subplots(figsize=(12,7)) \n",
    "nbins = 120\n",
    "n, bins, patches = ax.hist(x,nbins, density=True, facecolor = 'grey', alpha = 0.8, label='Data'); \n",
    "\n",
    "centers = (0.5*(bins[1:]+bins[:-1]))\n",
    "pars, cov = curve_fit(lambda x, mu, sig : norm.pdf(x, loc=mu, scale=sig), centers, n, p0=[20,5])\n",
    "\n",
    "ax.plot(centers, norm.pdf(centers,*pars), 'k--',linewidth = 2, label='Fit') \n",
    "ax.set_title('$mu={:.4f}\\pm{:.4f}$, $sigma={:.4f}\\pm{:.4f}$'.format(pars[0],np.sqrt(cov[0,0]), pars[1], np.sqrt(cov[1,1 ])))\n",
    "plt.xlabel(\"Predicted shift\")\n",
    "plt.xlim(10,30)\n",
    "plt.legend()\n",
    "plt.show()"
   ]
  },
  {
   "cell_type": "markdown",
   "id": "46372d85-08f9-47ad-9d95-156981738d28",
   "metadata": {},
   "source": [
    "#### plot the RMSE vs Epochs"
   ]
  },
  {
   "cell_type": "code",
   "execution_count": 96,
   "id": "9ba89561-fd1f-430c-a29f-98581da5395b",
   "metadata": {},
   "outputs": [
    {
     "data": {
      "image/png": "[encoded data removed]",
      "text/plain": [
       "<Figure size 864x504 with 1 Axes>"
      ]
     },
     "metadata": {
      "needs_background": "light"
     },
     "output_type": "display_data"
    }
   ],
   "source": [
    "plt.figure(figsize=(12,7))\n",
    "plt.plot(np.linspace(1,100,100),rmse_values, marker=\"o\",label=\"RMSE value\")\n",
    "plt.xlabel(\"Number of Epochs\")\n",
    "plt.ylabel(\"Root Mean Square Error (RMSE)\")\n",
    "# plt.xlim(0,50)\n",
    "plt.grid()\n",
    "plt.legend()\n",
    "plt.show()"
   ]
  },
  {
   "cell_type": "markdown",
   "id": "f85494f4-8b48-4fc9-a41b-574621d6b5db",
   "metadata": {},
   "source": [
    "#### Checking the labels and wfs in NormalWaveformTestClass()"
   ]
  },
  {
   "cell_type": "code",
   "execution_count": 31,
   "id": "57d83468-3548-475f-b74d-71da9fec33e0",
   "metadata": {},
   "outputs": [],
   "source": [
    "# singlewaveform = NormalWaveformTestClass()\n",
    "# plt.figure(figsize=(25,20))\n",
    "# k = 100\n",
    "# j = 0\n",
    "# for i in range(k,k+100,1):\n",
    "#     plt.subplot(10,10,j+1)\n",
    "#     j+=1\n",
    "#     wf,label = singlewaveform.__getitem__(i)\n",
    "#     plt.plot(wf)\n",
    "#     plt.title(\"label %d\"%label)\n",
    "#     plt.tick_params(left = False, labelleft = False , labelbottom = False, bottom = False)"
   ]
  },
  {
   "cell_type": "code",
   "execution_count": null,
   "id": "f15b4da3-2448-410f-94b8-111dd624e2a4",
   "metadata": {},
   "outputs": [],
   "source": []
  }
 ],
 "metadata": {
  "kernelspec": {
   "display_name": "pytorchtest",
   "language": "python",
   "name": "pytorchtest"
  },
  "language_info": {
   "codemirror_mode": {
    "name": "ipython",
    "version": 3
   },
   "file_extension": ".py",
   "mimetype": "text/x-python",
   "name": "python",
   "nbconvert_exporter": "python",
   "pygments_lexer": "ipython3",
   "version": "3.7.10"
  }
 },
 "nbformat": 4,
 "nbformat_minor": 5
}
